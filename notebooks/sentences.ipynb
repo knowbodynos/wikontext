{
 "cells": [
  {
   "cell_type": "code",
   "execution_count": 1,
   "metadata": {},
   "outputs": [
    {
     "name": "stderr",
     "output_type": "stream",
     "text": [
      "/usr/local/anaconda3/envs/insight/lib/python3.6/site-packages/sklearn/ensemble/weight_boosting.py:29: DeprecationWarning: numpy.core.umath_tests is an internal NumPy module and should not be imported. It will be removed in a future NumPy release.\n",
      "  from numpy.core.umath_tests import inner1d\n"
     ]
    }
   ],
   "source": [
    "# Basic tools\n",
    "import os\n",
    "import sys\n",
    "import re\n",
    "from time import sleep\n",
    "from random import randint, sample\n",
    "\n",
    "# Data tools\n",
    "import numpy as np\n",
    "import pandas as pd\n",
    "import scipy.spatial.distance as sdist\n",
    "from scipy.stats import norm\n",
    "\n",
    "# Scraping tools\n",
    "import requests\n",
    "from bs4 import BeautifulSoup\n",
    "\n",
    "# Viz tools\n",
    "import matplotlib.pyplot as plt\n",
    "from matplotlib.backends.backend_pdf import PdfPages\n",
    "import seaborn as sns\n",
    "\n",
    "# NLP tools\n",
    "import nltk\n",
    "from sklearn.feature_extraction.text import TfidfVectorizer, CountVectorizer\n",
    "from sklearn.linear_model import LogisticRegression\n",
    "from sklearn.ensemble import RandomForestClassifier\n",
    "from sklearn.model_selection import train_test_split\n",
    "from sklearn.externals import joblib\n",
    "from sklearn.metrics.pairwise import paired_distances, cosine_similarity\n",
    "from sklearn import metrics\n",
    "from gensim.models import Word2Vec, KeyedVectors\n",
    "from gensim.corpora.wikicorpus import WikiCorpus\n",
    "import spacy\n",
    "snlp = spacy.load('en_core_web_sm')\n",
    "\n",
    "# Local\n",
    "## Allow local relative imports\n",
    "module_path = os.path.abspath('..')\n",
    "include_path = os.path.join(module_path, 'include')\n",
    "data_path = os.path.join(module_path, 'data')\n",
    "models_path = os.path.join(module_path, 'models')\n",
    "embeds_path = os.path.join(module_path, 'embeddings')\n",
    "eda_path = os.path.join(module_path, 'eda')\n",
    "if include_path not in sys.path:\n",
    "    sys.path.append(include_path)\n",
    "from my_nlp import Tokenizer"
   ]
  },
  {
   "cell_type": "code",
   "execution_count": 1,
   "metadata": {},
   "outputs": [],
   "source": [
    "# titles_df = pd.read_csv(data_path + '/enwiki-latest-all-titles.tsv', sep = '\\t')\n",
    "\n",
    "# titles = titles_df[titles_df.page_namespace == 0].sample(frac = 1).page_title"
   ]
  },
  {
   "cell_type": "code",
   "execution_count": 5,
   "metadata": {},
   "outputs": [],
   "source": [
    "# with open(data_path + '/sentence_samples.tsv', 'w') as sample_stream:\n",
    "#     print(\"sentence\", file = sample_stream)\n",
    "#     title_ind = 0\n",
    "#     sent_ind = 0\n",
    "#     sample_ind = 0\n",
    "#     prev_sample_ind = 0\n",
    "#     while (title_ind < titles.size) and (sample_ind < n_samples):\n",
    "#         wapi_params = {\n",
    "#             'action': \"parse\",\n",
    "#             'maxlag': 5,\n",
    "#             'page': titles[title_ind],\n",
    "#             'prop': \"text\",\n",
    "#             'contentformat': \"text/plain\",\n",
    "#             'format': \"json\"\n",
    "#         }\n",
    "\n",
    "#         try:\n",
    "#             data = sess.get(url = wapi_url, params = wapi_params).json()\n",
    "#             text = data['parse']['text']['*']\n",
    "#         except KeyError:\n",
    "#             title_ind += 1\n",
    "#             continue\n",
    "\n",
    "#         if not '<div class=\"redirectMsg\">' in text:\n",
    "#             sent_list = []\n",
    "#             soup = BeautifulSoup(text, 'html5lib')\n",
    "#             for p in soup.find_all('p'):\n",
    "#                 for p_split in p.decode_contents().split('\\n'):\n",
    "#                     for sent in nltk.sent_tokenize(p_split):\n",
    "#                         sent_content = BeautifulSoup(sent, 'html5lib').body.get_text()\n",
    "#                         sent_content = re.sub('\\[.*?\\]', '', sent_content)\n",
    "#                         sent_content = ' '.join(tok.load(sent_content).word_tokenize(lemmatize = True).word_tokens)\n",
    "#                         sent_list.append(sent_content)\n",
    "#                         sent_ind += 1\n",
    "#             sent_quota = randint(0, len(sent_list))\n",
    "#             print('\\n'.join(sample(sent_list, sent_quota)), file = sample_stream)\n",
    "#             sample_ind += sent_quota\n",
    "#             if (sample_ind - prev_sample_ind) >= 500:\n",
    "#                 print(\"Title: {}, Sentence: {}, Sample: {}\".format(title_ind, sent_ind, sample_ind))\n",
    "#                 prev_sample_ind = sample_ind\n",
    "#         title_ind += 1"
   ]
  },
  {
   "cell_type": "code",
   "execution_count": 19,
   "metadata": {},
   "outputs": [],
   "source": [
    "# tok = Tokenizer()\n",
    "# sess = requests.Session()\n",
    "# wapi_url = \"https://en.wikipedia.org/w/api.php\""
   ]
  },
  {
   "cell_type": "code",
   "execution_count": 76,
   "metadata": {},
   "outputs": [],
   "source": [
    "# bilinks_df = pd.read_csv(data_path + '/clickstream-enwiki-2018-08-bilinks.tsv', sep = '\\t')"
   ]
  },
  {
   "cell_type": "code",
   "execution_count": 217,
   "metadata": {},
   "outputs": [],
   "source": [
    "# n_bilinks = 100\n",
    "\n",
    "# count_df_cols = ['origin_p_count', 'origin_newline_count', 'origin_sent_count', 'n_links_forward',\n",
    "#                  'target_p_count', 'target_newline_count', 'target_sent_count', 'n_links_backward']\n",
    "\n",
    "# for count_df_col in count_df_cols:\n",
    "#     bilinks_df[count_df_col] = 0\n",
    "\n",
    "# pos_df_cols = ['origin_p_pos', 'origin_newline_pos', 'origin_sent_pos', 'origin_sent',\n",
    "#                'target_p_pos', 'target_newline_pos', 'target_sent_pos', 'target_sent', 'match']\n",
    "\n",
    "# if os.path.exists(data_path + '/clickstream-enwiki-2018-08-sentences.tsv'):\n",
    "#     sent_df = pd.read_csv(data_path + '/clickstream-enwiki-2018-08-sentences.tsv', sep = '\\t')\n",
    "#     start_bilink_ind = len(sent_df.groupby(by = ['origin_title', 'target_title']))\n",
    "#     sent_ind = sent_df.shape[0]\n",
    "# else:\n",
    "#     sent_df = pd.DataFrame(columns = bilinks_df.columns)\n",
    "\n",
    "#     for pos_df_col in pos_df_cols:\n",
    "#         sent_df[pos_df_col] = 0\n",
    "\n",
    "#     sent_df.to_csv(data_path + '/clickstream-enwiki-2018-08-sentences.tsv', sep = '\\t', index = False)\n",
    "#     start_bilink_ind = 0\n",
    "#     sent_ind = 0\n",
    "\n",
    "# for bilink_ind in range(start_bilink_ind, start_bilink_ind + n_bilinks):\n",
    "#     sent_df = pd.DataFrame(columns = bilinks_df.columns)\n",
    "\n",
    "#     for pos_df_col in pos_df_cols:\n",
    "#         sent_df[pos_df_col] = 0\n",
    "\n",
    "#     origin_title, target_title = bilinks_df[['origin_title', 'target_title']].iloc[bilink_ind].tolist()\n",
    "\n",
    "#     origin_wapi_params = {\n",
    "#         'action': \"parse\",\n",
    "#         'maxlag': 5,\n",
    "#         'page': origin_title,\n",
    "#         'prop': \"text\",\n",
    "#         'contentformat': \"text/plain\",\n",
    "#         'format': \"json\"\n",
    "#     }\n",
    "\n",
    "#     while True:\n",
    "#         try:\n",
    "#             origin_data = sess.get(url = wapi_url, params = origin_wapi_params).json()\n",
    "#             origin_title_norm = origin_data['parse']['title']\n",
    "#             origin_text = origin_data['parse']['text']['*']\n",
    "#         except KeyError:\n",
    "#             sleep(1)\n",
    "#         else:\n",
    "#             break\n",
    "#     if isinstance(origin_text, bytes):\n",
    "#         origin_text = origin_text.decode()\n",
    "#     origin_soup = BeautifulSoup(origin_text, 'html5lib')\n",
    "\n",
    "#     target_wapi_params = {\n",
    "#         'action': \"parse\",\n",
    "#         'maxlag': 5,\n",
    "#         'page': target_title,\n",
    "#         'prop': \"text\",\n",
    "#         'format': \"json\"\n",
    "#     }\n",
    "\n",
    "#     while True:\n",
    "#         try:\n",
    "#             target_data = sess.get(url = wapi_url, params = target_wapi_params).json()\n",
    "#             target_title_norm = target_data['parse']['title']\n",
    "#             target_text = target_data['parse']['text']['*']\n",
    "#         except KeyError:\n",
    "#             sleep(1)\n",
    "#         else:\n",
    "#             break\n",
    "#     if isinstance(target_text, bytes):\n",
    "#         target_text = target_text.decode()\n",
    "#     target_soup = BeautifulSoup(target_text, 'html5lib')\n",
    "\n",
    "#     origin_ref_sents = []\n",
    "#     origin_temp_sents = []\n",
    "#     p_pos = 0\n",
    "#     newline_pos = 0\n",
    "#     sent_pos = 0\n",
    "#     for p in origin_soup.find_all('p'):\n",
    "#         for p_split in p.decode_contents().split('\\n'):\n",
    "#             for sent in nltk.sent_tokenize(p_split):\n",
    "#                 if isinstance(sent, bytes):\n",
    "#                     sent = sent.decode()\n",
    "#                 sent_content = BeautifulSoup(sent, 'html5lib').body.get_text().replace('\\xa0', ' ').encode('ascii', 'ignore').decode()\n",
    "#                 sent_content = re.sub('\\[.*?\\]', '', sent_content)\n",
    "#                 sent_content = ' '.join(tok.load(sent_content).word_tokenize(lemmatize = True).word_tokens)\n",
    "#                 bilinks_df.loc[bilink_ind, 'origin_sent_count'] += 1\n",
    "#                 sent_pos += 1\n",
    "#                 if target_title_norm in sent:\n",
    "#                     origin_ref_sents.append([p_pos, newline_pos, sent_pos, sent_content])\n",
    "#                     bilinks_df.loc[bilink_ind, 'n_links_forward'] += 1\n",
    "#                 else:\n",
    "#                     origin_temp_sents.append([p_pos, newline_pos, sent_pos, sent_content])\n",
    "#             bilinks_df.loc[bilink_ind, 'origin_newline_count'] += 1\n",
    "#             newline_pos += 1\n",
    "#         bilinks_df.loc[bilink_ind, 'origin_p_count'] += 1\n",
    "#         p_pos += 1\n",
    "\n",
    "#     target_ref_sents = []\n",
    "#     target_temp_sents = []\n",
    "#     p_pos = 0\n",
    "#     newline_pos = 0\n",
    "#     sent_pos = 0\n",
    "#     for p in target_soup.find_all('p'):\n",
    "#         for p_split in p.decode_contents().split('\\n'):\n",
    "#             for sent in nltk.sent_tokenize(p_split):\n",
    "#                 if isinstance(sent, bytes):\n",
    "#                     sent = sent.decode()\n",
    "#                 sent_content = BeautifulSoup(sent, 'html5lib').body.get_text().replace('\\xa0', ' ').encode('ascii', 'ignore').decode()\n",
    "#                 sent_content = re.sub('\\[.*?\\]', '', sent_content)\n",
    "#                 sent_content = ' '.join(tok.load(sent_content).word_tokenize(lemmatize = True).word_tokens)\n",
    "#                 bilinks_df.loc[bilink_ind, 'target_sent_count'] += 1\n",
    "#                 sent_pos += 1\n",
    "#                 if origin_title_norm in sent:\n",
    "#                     target_ref_sents.append([p_pos, newline_pos, sent_pos, sent_content])\n",
    "#                     bilinks_df.loc[bilink_ind, 'n_links_backward'] += 1\n",
    "#                 else:\n",
    "#                     target_temp_sents.append([p_pos, newline_pos, sent_pos, sent_content])\n",
    "#             bilinks_df.loc[bilink_ind, 'target_newline_count'] += 1\n",
    "#             newline_pos += 1\n",
    "#         bilinks_df.loc[bilink_ind, 'target_p_count'] += 1\n",
    "#         p_pos += 1\n",
    "\n",
    "#     for o in origin_ref_sents:\n",
    "#         for t in target_ref_sents:\n",
    "#             temp_df = pd.DataFrame(dict(zip(bilinks_df.columns.tolist() + pos_df_cols, bilinks_df.iloc[bilink_ind].tolist() + o + t + [1])), index = [0])\n",
    "#             sent_df = sent_df.append(temp_df, sort = False, ignore_index = True).reset_index(drop = True)\n",
    "    \n",
    "#     if (len(origin_temp_sents) > len(origin_ref_sents)) and (len(target_temp_sents) > len(target_ref_sents)):\n",
    "#         origin_rand_sents = map(lambda i: origin_temp_sents[i], np.random.choice(np.arange(len(origin_temp_sents)), replace = False, size = len(origin_ref_sents)).tolist())\n",
    "#         target_rand_sents = map(lambda i: target_temp_sents[i], np.random.choice(np.arange(len(target_temp_sents)), replace = False, size = len(target_ref_sents)).tolist())\n",
    "#         for o in origin_rand_sents:\n",
    "#             for t in target_rand_sents:\n",
    "#                 temp_df = pd.DataFrame(dict(zip(bilinks_df.columns.tolist() + pos_df_cols, bilinks_df.iloc[bilink_ind].tolist() + o + t + [0])), index = [0])\n",
    "#                 sent_df = sent_df.append(temp_df, sort = False, ignore_index = True).reset_index(drop = True)\n",
    "    \n",
    "#     sent_df = sent_df.dropna().reset_index(drop = True)\n",
    "#     sent_df.to_csv(data_path + '/clickstream-enwiki-2018-08-sentences.tsv', sep = '\\t', mode = 'a', header = False, index = False)\n",
    "\n",
    "#     sent_ind += sent_df.shape[0]\n",
    "\n",
    "#     if sent_df.shape[0] > 0:\n",
    "#         print(\"Title Bilink: {}, Sentence Bilink: {}\".format(bilink_ind, sent_ind))"
   ]
  },
  {
   "cell_type": "code",
   "execution_count": 2,
   "metadata": {},
   "outputs": [],
   "source": [
    "sent_df = pd.read_csv(data_path + '/clickstream-enwiki-2018-08-sentences.tsv', sep = '\\t')\n",
    "samples_df = pd.read_csv(data_path + '/enwiki-latest-all-titles-sentence_samples.tsv', sep = '\\t')"
   ]
  },
  {
   "cell_type": "code",
   "execution_count": 3,
   "metadata": {},
   "outputs": [],
   "source": [
    "# rand_pairs = np.random.choice(samples_df.sentence.values, size = (2, (sent_df.match == 1).size))\n",
    "# np.save(data_path + '/enwiki-latest-all-rand_pairs.npy', rand_pairs)\n",
    "rand_pairs = np.load(data_path + '/enwiki-latest-all-rand_pairs.npy')"
   ]
  },
  {
   "cell_type": "code",
   "execution_count": 4,
   "metadata": {},
   "outputs": [],
   "source": [
    "# max_df = 0.8\n",
    "# min_df = 5\n",
    "\n",
    "# max_features = 10000\n",
    "\n",
    "# min_n_gram = 1\n",
    "# max_n_gram = 3\n",
    "\n",
    "# tfidf_vectorizer = TfidfVectorizer(min_df = min_df, max_df = max_df,\n",
    "#                                    max_features = max_features,\n",
    "#                                    ngram_range = (min_n_gram, max_n_gram),\n",
    "#                                    stop_words = 'english').fit(samples_df.sentence)\n",
    "\n",
    "# joblib.dump(tfidf_vectorizer, models_path + '/tfidf/enwiki-latest-all-tfidf_vectorizer.joblib')\n",
    "# tfidf_vectorizer = joblib.load(models_path + '/tfidf/enwiki-latest-all-tfidf_vectorizer.joblib')"
   ]
  },
  {
   "cell_type": "code",
   "execution_count": 5,
   "metadata": {},
   "outputs": [],
   "source": [
    "# origin_vec = tfidf_vectorizer.transform(sent_df.origin_sent)\n",
    "# target_vec = tfidf_vectorizer.transform(sent_df.target_sent)\n",
    "# origin_first_vec = tfidf_vectorizer.transform(sent_df.origin_first_sent)\n",
    "# target_first_vec = tfidf_vectorizer.transform(sent_df.target_first_sent)"
   ]
  },
  {
   "cell_type": "code",
   "execution_count": 4,
   "metadata": {},
   "outputs": [],
   "source": [
    "# tfidf_vectors = np.apply_along_axis(lambda x: tfidf_vectorizer.transform(x).toarray(), 0, sent_df[['origin_sent', 'target_sent', 'origin_first_sent', 'target_first_sent']].values).transpose((2, 0, 1))\n",
    "# np.save(embeds_path + '/clickstream-enwiki-2018-08-tfidf_vectors.npy', tfidf_vectors)\n",
    "tfidf_vectors = np.load(embeds_path + '/clickstream-enwiki-2018-08-tfidf_vectors.npy')"
   ]
  },
  {
   "cell_type": "code",
   "execution_count": 5,
   "metadata": {},
   "outputs": [],
   "source": [
    "# rand_tfidf_vectors = np.apply_along_axis(lambda x: tfidf_vectorizer.transform(x).toarray(), 0, rand_pairs).transpose((0, 2, 1))\n",
    "# np.save(embeds_path + '/clickstream-enwiki-2018-08-rand_tfidf_vectors.npy', rand_tfidf_vectors)\n",
    "rand_tfidf_vectors = np.load(embeds_path + '/clickstream-enwiki-2018-08-rand_tfidf_vectors.npy')"
   ]
  },
  {
   "cell_type": "code",
   "execution_count": 6,
   "metadata": {},
   "outputs": [],
   "source": [
    "tfidf_sims = 1 - paired_distances(tfidf_vectors[0], tfidf_vectors[1], metric = 'cosine')\n",
    "first_tfidf_sims = 1 - paired_distances(tfidf_vectors[0], tfidf_vectors[3], metric = 'cosine')\n",
    "rand_tfidf_sims = 1 - paired_distances(tfidf_vectors[0], rand_tfidf_vectors[1], metric = 'cosine')"
   ]
  },
  {
   "cell_type": "code",
   "execution_count": 9,
   "metadata": {},
   "outputs": [
    {
     "name": "stderr",
     "output_type": "stream",
     "text": [
      "/usr/local/anaconda3/envs/insight/lib/python3.6/site-packages/scipy/stats/stats.py:1713: FutureWarning: Using a non-tuple sequence for multidimensional indexing is deprecated; use `arr[tuple(seq)]` instead of `arr[seq]`. In the future this will be interpreted as an array index, `arr[np.array(seq)]`, which will result either in an error or a different result.\n",
      "  return np.add.reduce(sorted[indexer] * weights, axis=axis) / sumval\n"
     ]
    },
    {
     "data": {
      "image/png": "[encoded data removed]",
      "text/plain": [
       "<Figure size 576x288 with 1 Axes>"
      ]
     },
     "metadata": {},
     "output_type": "display_data"
    }
   ],
   "source": [
    "fig = plt.figure(figsize = (8, 4))\n",
    "mu = tfidf_sims[sent_df.match == 1].mean()\n",
    "sigma = tfidf_sims[sent_df.match == 1].std()\n",
    "sns.distplot(tfidf_sims[sent_df.match == 1], label = \"Linked sentence pairs ($\\mu$={:.1f}, $\\sigma$={:.1f})\".format(mu, sigma))\n",
    "mu = first_tfidf_sims[sent_df.match == 1].mean()\n",
    "sigma = first_tfidf_sims[sent_df.match == 1].std()\n",
    "sns.distplot(first_tfidf_sims[sent_df.match == 1], label = \"Baseline sentence pairs ($\\mu$={:.1f}, $\\sigma$={:.1f})\".format(mu, sigma))\n",
    "mu = rand_tfidf_sims[sent_df.match == 1].mean()\n",
    "sigma = rand_tfidf_sims[sent_df.match == 1].std()\n",
    "sns.distplot(rand_tfidf_sims[sent_df.match == 1], label = \"Random sentence pairs ($\\mu$={:.1f}, $\\sigma$={:.1f})\".format(mu, sigma))\n",
    "plt.legend()\n",
    "plt.title(\"TF-IDF Distribution (81,335 Sentence Pairs)\")\n",
    "plt.xlabel(\"Cosine Similarity\")\n",
    "plt.ylabel(\"Frequency\")\n",
    "fig.savefig(eda_path + '/tfidf_dist.png')"
   ]
  },
  {
   "cell_type": "code",
   "execution_count": 10,
   "metadata": {},
   "outputs": [],
   "source": [
    "# origin_target_match_dist = paired_distances(origin_vec, target_vec, metric = 'cosine')[sent_df.index[sent_df.match == 1]]\n",
    "# origin_target_no_match_dist = paired_distances(origin_vec, target_vec, metric = 'cosine')[sent_df.index[sent_df.match == 0]]\n",
    "# origin_first_target_dist = paired_distances(origin_vec, target_first_vec, metric = 'cosine')\n",
    "# first_origin_target_dist = paired_distances(origin_first_vec, target_vec, metric = 'cosine')\n",
    "# first_origin_first_target = paired_distances(origin_first_vec, target_first_vec, metric = 'cosine')\n",
    "\n",
    "# print(\"Origin -> Target (Match): {}\".format(origin_target_match_dist.mean()))\n",
    "# print(\"Origin -> Target (No Match): {}\".format(origin_target_no_match_dist.mean()))\n",
    "# print(\"Origin -> First Target: {}\".format(origin_first_target_dist.mean()))\n",
    "# print(\"First Origin -> Target: {}\".format(first_origin_target_dist.mean()))\n",
    "# print(\"First Origin -> First Target: {}\".format(first_origin_first_target.mean()))"
   ]
  },
  {
   "cell_type": "code",
   "execution_count": 7,
   "metadata": {},
   "outputs": [],
   "source": [
    "wiki2vec_embed = KeyedVectors.load(models_path + '/wiki2vec/en.model.kv')"
   ]
  },
  {
   "cell_type": "code",
   "execution_count": null,
   "metadata": {},
   "outputs": [],
   "source": [
    "fasttext_embed = fasttext.load_model('/Volumes/BlackBoxNew/insight/wiki.en/wiki.en.bin')"
   ]
  },
  {
   "cell_type": "code",
   "execution_count": 8,
   "metadata": {},
   "outputs": [],
   "source": [
    "def mean_filtered(embed, doc):\n",
    "    filtered = [x for x in doc.split() if x in embed.vocab]\n",
    "    if len(filtered) > 0:\n",
    "        return embed[filtered].mean(axis = 0)\n",
    "    else:\n",
    "        return np.zeros(embed.vector_size, dtype = np.float32)"
   ]
  },
  {
   "cell_type": "code",
   "execution_count": 9,
   "metadata": {},
   "outputs": [],
   "source": [
    "wiki2vec_vectorizer = np.vectorize(lambda x: mean_filtered(wiki2vec_embed, x), signature = '()->(n)')"
   ]
  },
  {
   "cell_type": "code",
   "execution_count": 14,
   "metadata": {},
   "outputs": [],
   "source": [
    "# wiki2vec_vectors = np.apply_along_axis(lambda x: wiki2vec_vectorizer(x), 0, sent_df[['origin_sent', 'target_sent', 'origin_first_sent', 'target_first_sent']].values).transpose((2, 0, 1))\n",
    "# wiki2vec_vectors = wiki2vec_vectorizer(sent_df[['origin_sent', 'target_sent', 'origin_first_sent', 'target_first_sent']].values)\n",
    "# np.save(embeds_path + '/clickstream-enwiki-2018-08-wiki2vec_vectors.npy', wiki2vec_vectors)"
   ]
  },
  {
   "cell_type": "code",
   "execution_count": 10,
   "metadata": {},
   "outputs": [],
   "source": [
    "wiki2vec_vectors = np.load(embeds_path + '/clickstream-enwiki-2018-08-wiki2vec_vectors.npy')"
   ]
  },
  {
   "cell_type": "code",
   "execution_count": 11,
   "metadata": {},
   "outputs": [],
   "source": [
    "# rand_wiki2vec_vectors = wiki2vec_vectorizer(rand_pairs)\n",
    "# np.save(embeds_path + '/clickstream-enwiki-2018-08-rand_wiki2vec_vectors.npy', rand_wiki2vec_vectors)\n",
    "rand_wiki2vec_vectors = np.load(embeds_path + '/clickstream-enwiki-2018-08-rand_wiki2vec_vectors.npy')"
   ]
  },
  {
   "cell_type": "code",
   "execution_count": 12,
   "metadata": {},
   "outputs": [],
   "source": [
    "wiki2vec_sims = 1 - paired_distances(wiki2vec_vectors[0], wiki2vec_vectors[1], metric = 'cosine')\n",
    "first_wiki2vec_sims = 1 - paired_distances(wiki2vec_vectors[0], wiki2vec_vectors[3], metric = 'cosine')\n",
    "rand_wiki2vec_sims = 1 - paired_distances(wiki2vec_vectors[0], rand_wiki2vec_vectors[1], metric = 'cosine')"
   ]
  },
  {
   "cell_type": "code",
   "execution_count": 13,
   "metadata": {},
   "outputs": [],
   "source": [
    "# X_1 = np.concatenate([wiki2vec_vectors[0].reshape(wiki2vec_vectors.shape[1:]), wiki2vec_vectors[1].reshape(wiki2vec_vectors.shape[1:])], axis = 1)[sent_df.match == 1]\n",
    "X_1 = wiki2vec_vectors[:2].transpose((1, 0, 2)).reshape((wiki2vec_vectors.shape[1], 2000))[sent_df.match == 1]\n",
    "X_1 = np.concatenate([X_1, wiki2vec_sims[sent_df.match == 1].reshape((-1, 1))], axis = 1)"
   ]
  },
  {
   "cell_type": "code",
   "execution_count": 14,
   "metadata": {},
   "outputs": [],
   "source": [
    "X_2 = np.concatenate([wiki2vec_vectors[0], rand_wiki2vec_vectors[1]], axis = 1)[sent_df.match == 1]\n",
    "X_2 = np.concatenate([X_2, rand_wiki2vec_sims[sent_df.match == 1].reshape((-1, 1))], axis = 1)"
   ]
  },
  {
   "cell_type": "code",
   "execution_count": 15,
   "metadata": {},
   "outputs": [],
   "source": [
    "X = np.concatenate([X_1, X_2], axis = 0)\n",
    "y = np.concatenate([np.ones(X_1.shape[0]), np.zeros(X_2.shape[0])], axis = 0)"
   ]
  },
  {
   "cell_type": "code",
   "execution_count": 16,
   "metadata": {},
   "outputs": [],
   "source": [
    "X_train, X_test, y_train, y_test = train_test_split(X, y, test_size = 0.3, random_state = 42)"
   ]
  },
  {
   "cell_type": "code",
   "execution_count": 17,
   "metadata": {},
   "outputs": [],
   "source": [
    "X_3 = wiki2vec_vectors[[0, 3]].transpose((1, 0, 2)).reshape((wiki2vec_vectors.shape[1], 2000))[sent_df.match == 1]\n",
    "X_3 = np.concatenate([X_3, first_wiki2vec_sims[sent_df.match == 1].reshape((-1, 1))], axis = 1)"
   ]
  },
  {
   "cell_type": "code",
   "execution_count": 18,
   "metadata": {},
   "outputs": [],
   "source": [
    "logreg = LogisticRegression(random_state = 0, solver = 'lbfgs',\n",
    "                            multi_class = 'multinomial').fit(X_train, y_train)\n",
    "logreg_y_pred = logreg.predict(X_test)"
   ]
  },
  {
   "cell_type": "code",
   "execution_count": 25,
   "metadata": {},
   "outputs": [
    {
     "data": {
      "text/plain": [
       "(81335, 1000)"
      ]
     },
     "execution_count": 25,
     "metadata": {},
     "output_type": "execute_result"
    }
   ],
   "source": [
    "wiki2vec_vectors[0][sent_df.match == 1].shape"
   ]
  },
  {
   "cell_type": "code",
   "execution_count": 26,
   "metadata": {},
   "outputs": [
    {
     "data": {
      "text/plain": [
       "(81335, 1000)"
      ]
     },
     "execution_count": 26,
     "metadata": {},
     "output_type": "execute_result"
    }
   ],
   "source": [
    "rand_wiki2vec_vectors[1][sent_df.match == 1].shape"
   ]
  },
  {
   "cell_type": "code",
   "execution_count": 19,
   "metadata": {},
   "outputs": [
    {
     "data": {
      "text/plain": [
       "(81335,)"
      ]
     },
     "execution_count": 19,
     "metadata": {},
     "output_type": "execute_result"
    }
   ],
   "source": [
    "paired_distances(wiki2vec_vectors[0][sent_df.match == 1], rand_wiki2vec_vectors[1][sent_df.match == 1]).shape"
   ]
  },
  {
   "cell_type": "code",
   "execution_count": 203,
   "metadata": {},
   "outputs": [],
   "source": [
    "def logreg_sim(logreg, x, y):\n",
    "    n_rows = x.shape[0]\n",
    "    n_cols = y.shape[0]\n",
    "    x_inds, y_inds = np.array(np.meshgrid(np.arange(n_rows), np.arange(n_cols))).reshape(2, -1)\n",
    "    return logreg.predict_proba(np.concatenate([x[x_inds], y[y_inds], 1 - paired_distances(x[x_inds], y[y_inds]).reshape(-1, 1)], axis = 1))[:, 1].reshape((n_cols, n_rows)).T"
   ]
  },
  {
   "cell_type": "code",
   "execution_count": 19,
   "metadata": {},
   "outputs": [
    {
     "data": {
      "text/plain": [
       "['/Users/ross/Dropbox/Projects/insight/wikontext/models/logreg.joblib']"
      ]
     },
     "execution_count": 19,
     "metadata": {},
     "output_type": "execute_result"
    }
   ],
   "source": [
    "joblib.dump(logreg, models_path + '/logreg.joblib') "
   ]
  },
  {
   "cell_type": "code",
   "execution_count": 104,
   "metadata": {},
   "outputs": [],
   "source": [
    "probs = logreg.predict_proba(X_test)[:, 1]\n",
    "min_len = min(probs[y_test == 1].size, probs[y_test == 0].size)\n",
    "\n",
    "linked_probs = np.random.choice(probs[y_test == 1], size = min_len)\n",
    "rand_probs = np.random.choice(probs[y_test == 0], size = min_len)\n",
    "first_probs = np.random.choice(logreg.predict_proba(X_3)[:, 1], size = min_len)"
   ]
  },
  {
   "cell_type": "code",
   "execution_count": 105,
   "metadata": {},
   "outputs": [],
   "source": [
    "linked_sims = np.random.choice(X_test[y_test == 1][:, -1], size = min_len)\n",
    "rand_sims = np.random.choice(X_test[y_test == 0][:, -1], size = min_len)\n",
    "first_sims = np.random.choice(X_3[:, -1], size = min_len)"
   ]
  },
  {
   "cell_type": "code",
   "execution_count": 23,
   "metadata": {},
   "outputs": [
    {
     "data": {
      "text/plain": [
       "(48801, 2001)"
      ]
     },
     "execution_count": 23,
     "metadata": {},
     "output_type": "execute_result"
    }
   ],
   "source": [
    "X_test.shape"
   ]
  },
  {
   "cell_type": "code",
   "execution_count": 22,
   "metadata": {},
   "outputs": [
    {
     "data": {
      "text/plain": [
       "(48801,)"
      ]
     },
     "execution_count": 22,
     "metadata": {},
     "output_type": "execute_result"
    }
   ],
   "source": [
    "logreg.predict_proba(X_test)[:, 1].shape"
   ]
  },
  {
   "cell_type": "code",
   "execution_count": 65,
   "metadata": {},
   "outputs": [
    {
     "data": {
      "text/plain": [
       "array([0.70415306, 0.57003236, 0.6353495 , ..., 0.80857056, 0.22256517,\n",
       "       0.88826597], dtype=float32)"
      ]
     },
     "execution_count": 65,
     "metadata": {},
     "output_type": "execute_result"
    }
   ],
   "source": [
    "X_test[:, -1]"
   ]
  },
  {
   "cell_type": "code",
   "execution_count": 66,
   "metadata": {},
   "outputs": [
    {
     "data": {
      "text/plain": [
       "array([1., 0., 0., ..., 1., 0., 1.])"
      ]
     },
     "execution_count": 66,
     "metadata": {},
     "output_type": "execute_result"
    }
   ],
   "source": [
    "y_test"
   ]
  },
  {
   "cell_type": "code",
   "execution_count": 49,
   "metadata": {},
   "outputs": [],
   "source": [
    "logreg_metrics = map(lambda x: x(y_test, logreg_y_pred), [metrics.explained_variance_score,\n",
    "                                                          metrics.mean_absolute_error,\n",
    "                                                          metrics.mean_squared_error,\n",
    "                                                          metrics.mean_squared_log_error,\n",
    "                                                          metrics.median_absolute_error, metrics.r2_score])"
   ]
  },
  {
   "cell_type": "code",
   "execution_count": 50,
   "metadata": {},
   "outputs": [
    {
     "data": {
      "text/plain": [
       "[0.5843093363892711,\n",
       " 0.10423966721993402,\n",
       " 0.10423966721993402,\n",
       " 0.05008226228564763,\n",
       " 0.0,\n",
       " 0.5830409765837571]"
      ]
     },
     "execution_count": 50,
     "metadata": {},
     "output_type": "execute_result"
    }
   ],
   "source": [
    "list(logreg_metrics)"
   ]
  },
  {
   "cell_type": "code",
   "execution_count": 53,
   "metadata": {},
   "outputs": [],
   "source": [
    "randforest = RandomForestClassifier(n_estimators = 100, max_depth = 5,\n",
    "                                    random_state = 0).fit(X_train, y_train)\n",
    "randforest_y_pred = randforest.predict(X_test)"
   ]
  },
  {
   "cell_type": "code",
   "execution_count": 54,
   "metadata": {},
   "outputs": [],
   "source": [
    "randforest_metrics = map(lambda x: x(y_test, randforest_y_pred), [metrics.explained_variance_score,\n",
    "                                                          metrics.mean_absolute_error,\n",
    "                                                          metrics.mean_squared_error,\n",
    "                                                          metrics.mean_squared_log_error,\n",
    "                                                          metrics.median_absolute_error, metrics.r2_score])"
   ]
  },
  {
   "cell_type": "code",
   "execution_count": 55,
   "metadata": {},
   "outputs": [
    {
     "data": {
      "text/plain": [
       "[0.30646422558417463,\n",
       " 0.17897174238232824,\n",
       " 0.17897174238232824,\n",
       " 0.08598751303378149,\n",
       " 0.0,\n",
       " 0.28411242175791906]"
      ]
     },
     "execution_count": 55,
     "metadata": {},
     "output_type": "execute_result"
    }
   ],
   "source": [
    "list(randforest_metrics)"
   ]
  },
  {
   "cell_type": "code",
   "execution_count": null,
   "metadata": {},
   "outputs": [],
   "source": []
  },
  {
   "cell_type": "code",
   "execution_count": 55,
   "metadata": {},
   "outputs": [
    {
     "data": {
      "text/plain": [
       "((94663, 1000), ())"
      ]
     },
     "execution_count": 55,
     "metadata": {},
     "output_type": "execute_result"
    }
   ],
   "source": [
    "wiki2vec_vectors[0].shape, rand_wiki2vec_sims[0].shape"
   ]
  },
  {
   "cell_type": "code",
   "execution_count": 45,
   "metadata": {},
   "outputs": [
    {
     "data": {
      "text/plain": [
       "(81335, 2000)"
      ]
     },
     "execution_count": 45,
     "metadata": {},
     "output_type": "execute_result"
    }
   ],
   "source": [
    "X_1.shape"
   ]
  },
  {
   "cell_type": "code",
   "execution_count": 48,
   "metadata": {},
   "outputs": [
    {
     "data": {
      "text/plain": [
       "(81335, 1)"
      ]
     },
     "execution_count": 48,
     "metadata": {},
     "output_type": "execute_result"
    }
   ],
   "source": [
    "wiki2vec_sims[sent_df.match == 1].reshape((-1, 1)).shape"
   ]
  },
  {
   "cell_type": "code",
   "execution_count": 50,
   "metadata": {},
   "outputs": [
    {
     "data": {
      "text/plain": [
       "(81335, 2001)"
      ]
     },
     "execution_count": 50,
     "metadata": {},
     "output_type": "execute_result"
    }
   ],
   "source": [
    "np.concatenate([X_1, wiki2vec_sims[sent_df.match == 1].reshape((-1, 1))], axis = 1).shape"
   ]
  },
  {
   "cell_type": "code",
   "execution_count": 37,
   "metadata": {
    "scrolled": true
   },
   "outputs": [
    {
     "data": {
      "text/plain": [
       "True"
      ]
     },
     "execution_count": 37,
     "metadata": {},
     "output_type": "execute_result"
    }
   ],
   "source": [
    "a = wiki2vec_vectors[:2].transpose((1, 0, 2)).reshape((wiki2vec_vectors.shape[1], 2000))[sent_df.match == 1]\n",
    "(a == X).all()"
   ]
  },
  {
   "cell_type": "code",
   "execution_count": 32,
   "metadata": {},
   "outputs": [
    {
     "name": "stderr",
     "output_type": "stream",
     "text": [
      "/usr/local/anaconda3/envs/insight/lib/python3.6/site-packages/ipykernel/__main__.py:1: DeprecationWarning: elementwise == comparison failed; this will raise an error in the future.\n",
      "  if __name__ == '__main__':\n"
     ]
    },
    {
     "data": {
      "text/plain": [
       "False"
      ]
     },
     "execution_count": 32,
     "metadata": {},
     "output_type": "execute_result"
    }
   ],
   "source": [
    "X == a"
   ]
  },
  {
   "cell_type": "code",
   "execution_count": 81,
   "metadata": {},
   "outputs": [
    {
     "name": "stderr",
     "output_type": "stream",
     "text": [
      "/usr/local/anaconda3/envs/insight/lib/python3.6/site-packages/scipy/stats/stats.py:1713: FutureWarning: Using a non-tuple sequence for multidimensional indexing is deprecated; use `arr[tuple(seq)]` instead of `arr[seq]`. In the future this will be interpreted as an array index, `arr[np.array(seq)]`, which will result either in an error or a different result.\n",
      "  return np.add.reduce(sorted[indexer] * weights, axis=axis) / sumval\n"
     ]
    },
    {
     "data": {
      "image/png": "[encoded data removed]",
      "text/plain": [
       "<Figure size 576x288 with 1 Axes>"
      ]
     },
     "metadata": {},
     "output_type": "display_data"
    }
   ],
   "source": [
    "fig = plt.figure(figsize = (8, 4))\n",
    "mu = wiki2vec_sims[sent_df.match == 1].mean()\n",
    "sigma = wiki2vec_sims[sent_df.match == 1].std()\n",
    "sns.distplot(wiki2vec_sims[sent_df.match == 1], label = \"Linked sentence pairs ($\\mu$={:.1f}, $\\sigma$={:.1f})\".format(mu, sigma))\n",
    "mu = first_wiki2vec_sims[sent_df.match == 1].mean()\n",
    "sigma = first_wiki2vec_sims[sent_df.match == 1].std()\n",
    "sns.distplot(first_wiki2vec_sims[sent_df.match == 1], label = \"Baseline sentence pairs ($\\mu$={:.1f}, $\\sigma$={:.1f})\".format(mu, sigma))\n",
    "mu = rand_wiki2vec_sims[sent_df.match == 1].mean()\n",
    "sigma = rand_wiki2vec_sims[sent_df.match == 1].std()\n",
    "sns.distplot(rand_wiki2vec_sims[sent_df.match == 1], label = \"Random sentence pairs ($\\mu$={:.1f}, $\\sigma$={:.1f})\".format(mu, sigma))\n",
    "plt.legend()\n",
    "plt.title(\"Wiki2Vec Distribution (81,335 Sentence Pairs)\")\n",
    "plt.xlabel(\"Cosine Similarity\")\n",
    "plt.ylabel(\"Frequency\")\n",
    "fig.savefig(eda_path + '/wiki2vec_dist.png')"
   ]
  },
  {
   "cell_type": "code",
   "execution_count": 106,
   "metadata": {},
   "outputs": [
    {
     "name": "stderr",
     "output_type": "stream",
     "text": [
      "/usr/local/anaconda3/envs/insight/lib/python3.6/site-packages/scipy/stats/stats.py:1713: FutureWarning: Using a non-tuple sequence for multidimensional indexing is deprecated; use `arr[tuple(seq)]` instead of `arr[seq]`. In the future this will be interpreted as an array index, `arr[np.array(seq)]`, which will result either in an error or a different result.\n",
      "  return np.add.reduce(sorted[indexer] * weights, axis=axis) / sumval\n"
     ]
    },
    {
     "data": {
      "image/png": "[encoded data removed]",
      "text/plain": [
       "<Figure size 576x288 with 1 Axes>"
      ]
     },
     "metadata": {},
     "output_type": "display_data"
    }
   ],
   "source": [
    "fig = plt.figure(figsize = (8, 4))\n",
    "mu = linked_sims.mean()\n",
    "sigma = linked_sims.std()\n",
    "sns.distplot(linked_sims, label = \"Linked sentence pairs ($\\mu$={:.1f}, $\\sigma$={:.1f})\".format(mu, sigma))\n",
    "mu = first_sims.mean()\n",
    "sigma = first_sims.std()\n",
    "sns.distplot(first_sims, label = \"Baseline sentence pairs ($\\mu$={:.1f}, $\\sigma$={:.1f})\".format(mu, sigma))\n",
    "mu = rand_sims.mean()\n",
    "sigma = rand_sims.std()\n",
    "sns.distplot(rand_sims, label = \"Random sentence pairs ($\\mu$={:.1f}, $\\sigma$={:.1f})\".format(mu, sigma))\n",
    "plt.legend()\n",
    "plt.title(\"Wiki2Vec Distribution ({} Sentence Pairs)\".format(min_len))\n",
    "plt.xlabel(\"Cosine Similarity\")\n",
    "plt.ylabel(\"Frequency\")\n",
    "fig.savefig(eda_path + '/wiki2vec_dist_sims.png')"
   ]
  },
  {
   "cell_type": "code",
   "execution_count": 109,
   "metadata": {},
   "outputs": [
    {
     "name": "stderr",
     "output_type": "stream",
     "text": [
      "/usr/local/anaconda3/envs/insight/lib/python3.6/site-packages/scipy/stats/stats.py:1713: FutureWarning: Using a non-tuple sequence for multidimensional indexing is deprecated; use `arr[tuple(seq)]` instead of `arr[seq]`. In the future this will be interpreted as an array index, `arr[np.array(seq)]`, which will result either in an error or a different result.\n",
      "  return np.add.reduce(sorted[indexer] * weights, axis=axis) / sumval\n"
     ]
    },
    {
     "data": {
      "image/png": "[encoded data removed]",
      "text/plain": [
       "<Figure size 576x288 with 1 Axes>"
      ]
     },
     "metadata": {},
     "output_type": "display_data"
    }
   ],
   "source": [
    "fig = plt.figure(figsize = (8, 4))\n",
    "mu = linked_probs.mean()\n",
    "sigma = linked_probs.std()\n",
    "sns.distplot(linked_probs, label = \"Linked sentence pairs ($\\mu$={:.1f}, $\\sigma$={:.1f})\".format(mu, sigma))\n",
    "mu = first_probs.mean()\n",
    "sigma = first_probs.std()\n",
    "sns.distplot(first_probs, label = \"Baseline sentence pairs ($\\mu$={:.1f}, $\\sigma$={:.1f})\".format(mu, sigma))\n",
    "mu = rand_probs.mean()\n",
    "sigma = rand_probs.std()\n",
    "sns.distplot(rand_probs, label = \"Random sentence pairs ($\\mu$={:.1f}, $\\sigma$={:.1f})\".format(mu, sigma))\n",
    "plt.legend()\n",
    "plt.title(\"Wiki2Vec Distribution ({} Sentence Pairs)\".format(min_len))\n",
    "plt.xlabel(\"Logistic Regression Match Probability\")\n",
    "plt.ylabel(\"Frequency\")\n",
    "fig.savefig(eda_path + '/wiki2vec_dist_probs.png')"
   ]
  },
  {
   "cell_type": "code",
   "execution_count": 49,
   "metadata": {},
   "outputs": [
    {
     "data": {
      "text/plain": [
       "0.3969188"
      ]
     },
     "execution_count": 49,
     "metadata": {},
     "output_type": "execute_result"
    }
   ],
   "source": [
    "wiki2vec_dists[sent_df.match == 0].mean()"
   ]
  },
  {
   "cell_type": "code",
   "execution_count": 65,
   "metadata": {},
   "outputs": [
    {
     "name": "stderr",
     "output_type": "stream",
     "text": [
      "/usr/local/anaconda3/envs/insight/lib/python3.6/site-packages/scipy/stats/stats.py:1713: FutureWarning: Using a non-tuple sequence for multidimensional indexing is deprecated; use `arr[tuple(seq)]` instead of `arr[seq]`. In the future this will be interpreted as an array index, `arr[np.array(seq)]`, which will result either in an error or a different result.\n",
      "  return np.add.reduce(sorted[indexer] * weights, axis=axis) / sumval\n"
     ]
    },
    {
     "data": {
      "text/plain": [
       "<matplotlib.axes._subplots.AxesSubplot at 0x1a3c0523c8>"
      ]
     },
     "execution_count": 65,
     "metadata": {},
     "output_type": "execute_result"
    },
    {
     "data": {
      "image/png": "[encoded data removed]",
      "text/plain": [
       "<Figure size 432x288 with 1 Axes>"
      ]
     },
     "metadata": {},
     "output_type": "display_data"
    }
   ],
   "source": [
    "sns.distplot(wiki2vec_dists[sent_df.match == 0])"
   ]
  },
  {
   "cell_type": "code",
   "execution_count": 12,
   "metadata": {},
   "outputs": [],
   "source": [
    "# origin_vec, target_vec, origin_first_vec, target_first_vec = sent_df.apply(lambda row: list(map(lambda x: mean_filtered(embed, row[x]), ['origin_sent', 'target_sent', 'origin_first_sent', 'target_first_sent'])), axis = 1, result_type = 'expand').values.T\n",
    "# origin_vec = np.stack(origin_vec, axis = 0)\n",
    "# target_vec = np.stack(target_vec, axis = 0)\n",
    "# origin_first_vec = np.stack(origin_first_vec, axis = 0)\n",
    "# target_first_vec = np.stack(target_first_vec, axis = 0)"
   ]
  },
  {
   "cell_type": "code",
   "execution_count": null,
   "metadata": {},
   "outputs": [],
   "source": [
    "# origin_target_match_dist = paired_distances(origin_vec, target_vec, metric = 'cosine')[sent_df.index[sent_df.match == 1]]\n",
    "# origin_target_no_match_dist = paired_distances(origin_vec, target_vec, metric = 'cosine')[sent_df.index[sent_df.match == 0]]\n",
    "# origin_first_target_dist = paired_distances(origin_vec, target_first_vec, metric = 'cosine')\n",
    "# first_origin_target_dist = paired_distances(origin_first_vec, target_vec, metric = 'cosine')\n",
    "# first_origin_first_target_dist = paired_distances(origin_first_vec, target_first_vec, metric = 'cosine')\n",
    "\n",
    "# print(\"Origin -> Target (Match): {}\".format(origin_target_match_dist_dist.mean()))\n",
    "# print(\"Origin -> Target (No Match): {}\".format(origin_target_no_match_dist_dist.mean()))\n",
    "# print(\"Origin -> First Target: {}\".format(origin_first_target_dist.mean()))\n",
    "# print(\"First Origin -> Target: {}\".format(first_origin_target_dist.mean()))\n",
    "# print(\"First Origin -> First Target: {}\".format(first_origin_first_target_dist.mean()))"
   ]
  },
  {
   "cell_type": "code",
   "execution_count": null,
   "metadata": {},
   "outputs": [],
   "source": [
    "origin_target_match_dist = paired_distances(wiki2vec_vectors[:, :, , target_vec, metric = 'cosine')[sent_df.index[sent_df.match == 1]]\n",
    "origin_target_no_match_dist = paired_distances(origin_vec, target_vec, metric = 'cosine')[sent_df.index[sent_df.match == 0]]\n",
    "origin_first_target_dist = paired_distances(origin_vec, target_first_vec, metric = 'cosine')\n",
    "first_origin_target_dist = paired_distances(origin_first_vec, target_vec, metric = 'cosine')\n",
    "first_origin_first_target_dist = paired_distances(origin_first_vec, target_first_vec, metric = 'cosine')\n",
    "\n",
    "print(\"Origin -> Target (Match): {}\".format(origin_target_match_dist_dist.mean()))\n",
    "print(\"Origin -> Target (No Match): {}\".format(origin_target_no_match_dist_dist.mean()))\n",
    "print(\"Origin -> First Target: {}\".format(origin_first_target_dist.mean()))\n",
    "print(\"First Origin -> Target: {}\".format(first_origin_target_dist.mean()))\n",
    "print(\"First Origin -> First Target: {}\".format(first_origin_first_target_dist.mean()))"
   ]
  },
  {
   "cell_type": "code",
   "execution_count": null,
   "metadata": {},
   "outputs": [],
   "source": [
    "sns.distplot(np.concatenate((origin_target_match_dist, origin_target_no_match_dist), axis = 0))"
   ]
  },
  {
   "cell_type": "code",
   "execution_count": null,
   "metadata": {},
   "outputs": [],
   "source": []
  },
  {
   "cell_type": "code",
   "execution_count": 9,
   "metadata": {},
   "outputs": [],
   "source": [
    "embed1 = Word2Vec.load('/Volumes/BlackBoxNew/insight/en_1000_no_stem/en.model')\n",
    "# embed2 = KeyedVectors.load_word2vec_format('/Volumes/BlackBoxNew/insight/enwiki_upos_skipgram_300_5_2017/model.txt', binary = False)"
   ]
  },
  {
   "cell_type": "code",
   "execution_count": 13,
   "metadata": {},
   "outputs": [],
   "source": [
    "def cosine_dist1(row):\n",
    "    if isinstance(row['origin_sent'], str) and isinstance(row['target_sent'], str):\n",
    "        u = np.array([embed1.wv[x] for x in row['origin_sent'].split() if x in embed1.wv]).mean(axis = 0)\n",
    "        v = np.array([embed1.wv[x] for x in row['target_sent'].split() if x in embed1.wv]).mean(axis = 0)\n",
    "        return sdist.cosine(u, v), row['match']\n",
    "    else:\n",
    "        return None, row['match']"
   ]
  },
  {
   "cell_type": "code",
   "execution_count": null,
   "metadata": {},
   "outputs": [],
   "source": [
    "def cosine_dist2(row):\n",
    "    if isinstance(row['origin_sent'], str) and isinstance(row['target_sent'], str):\n",
    "        u = np.array([embed2['{}_{}'.format(x.text, x.pos_)] for x in snlp(row['origin_sent']) if '{}_{}'.format(x.text, x.pos_) in embed2]).mean(axis = 0)\n",
    "        v = np.array([embed2['{}_{}'.format(x.text, x.pos_)] for x in snlp(row['target_sent']) if '{}_{}'.format(x.text, x.pos_) in embed2]).mean(axis = 0)\n",
    "        return sdist.cosine(u, v), row['match']\n",
    "    else:\n",
    "        return None, row['match']"
   ]
  },
  {
   "cell_type": "code",
   "execution_count": 14,
   "metadata": {},
   "outputs": [
    {
     "name": "stderr",
     "output_type": "stream",
     "text": [
      "/usr/local/anaconda3/envs/insight/lib/python3.6/site-packages/ipykernel/__main__.py:4: RuntimeWarning: Mean of empty slice.\n",
      "/usr/local/anaconda3/envs/insight/lib/python3.6/site-packages/numpy/core/_methods.py:85: RuntimeWarning: invalid value encountered in double_scalars\n",
      "  ret = ret.dtype.type(ret / rcount)\n"
     ]
    },
    {
     "data": {
      "text/html": [
       "<div>\n",
       "<style scoped>\n",
       "    .dataframe tbody tr th:only-of-type {\n",
       "        vertical-align: middle;\n",
       "    }\n",
       "\n",
       "    .dataframe tbody tr th {\n",
       "        vertical-align: top;\n",
       "    }\n",
       "\n",
       "    .dataframe thead th {\n",
       "        text-align: right;\n",
       "    }\n",
       "</style>\n",
       "<table border=\"1\" class=\"dataframe\">\n",
       "  <thead>\n",
       "    <tr style=\"text-align: right;\">\n",
       "      <th></th>\n",
       "      <th>dist</th>\n",
       "    </tr>\n",
       "    <tr>\n",
       "      <th>match</th>\n",
       "      <th></th>\n",
       "    </tr>\n",
       "  </thead>\n",
       "  <tbody>\n",
       "    <tr>\n",
       "      <th>0.0</th>\n",
       "      <td>0.417532</td>\n",
       "    </tr>\n",
       "    <tr>\n",
       "      <th>1.0</th>\n",
       "      <td>0.299429</td>\n",
       "    </tr>\n",
       "  </tbody>\n",
       "</table>\n",
       "</div>"
      ],
      "text/plain": [
       "           dist\n",
       "match          \n",
       "0.0    0.417532\n",
       "1.0    0.299429"
      ]
     },
     "execution_count": 14,
     "metadata": {},
     "output_type": "execute_result"
    }
   ],
   "source": [
    "test_df1 = sent_df[['origin_sent', 'target_sent', 'match']].apply(cosine_dist1, axis = 1, result_type = 'expand').rename(columns = {0: 'dist', 1: 'match'})\n",
    "test_df1.groupby(by = ['match']).mean()"
   ]
  },
  {
   "cell_type": "code",
   "execution_count": null,
   "metadata": {},
   "outputs": [],
   "source": [
    "test_df2 = sent_df[['origin_sent', 'target_sent', 'match']].apply(cosine_dist2, axis = 1, result_type = 'expand').rename(columns = {0: 'dist', 1: 'match'})\n",
    "test_df2.groupby(by = ['match']).mean()"
   ]
  },
  {
   "cell_type": "code",
   "execution_count": null,
   "metadata": {},
   "outputs": [],
   "source": []
  },
  {
   "cell_type": "code",
   "execution_count": 4,
   "metadata": {},
   "outputs": [],
   "source": [
    "wiki = WikiCorpus('/Volumes/BlackBoxNew/insight/data/en/enwiki-latest-pages-articles.xml.bz2', \n",
    "                  lemmatize = False, dictionary = {})"
   ]
  },
  {
   "cell_type": "code",
   "execution_count": 6,
   "metadata": {},
   "outputs": [],
   "source": [
    "sentences = wiki.get_texts()"
   ]
  },
  {
   "cell_type": "code",
   "execution_count": null,
   "metadata": {},
   "outputs": [],
   "source": []
  },
  {
   "cell_type": "code",
   "execution_count": 48,
   "metadata": {},
   "outputs": [],
   "source": [
    "# origin_title = \"Boston\"\n",
    "# target_title = \"New_York_City\"\n",
    "\n",
    "# origin_wapi_params = {\n",
    "#     'action': \"parse\",\n",
    "#     'maxlag': 5,\n",
    "#     'page': origin_title,\n",
    "#     'prop': \"text\",\n",
    "#     'format': \"json\"\n",
    "# }\n",
    "\n",
    "# origin_data = sess.get(url = wapi_url, params = origin_wapi_params).json()\n",
    "# origin_text = origin_data['parse']['text']['*']\n",
    "\n",
    "# target_wapi_params = {\n",
    "#     'action': \"parse\",\n",
    "#     'maxlag': 5,\n",
    "#     'page': target_title,\n",
    "#     'prop': \"text\",\n",
    "#     'format': \"json\"\n",
    "# }\n",
    "\n",
    "# target_data = sess.get(url = wapi_url, params = target_wapi_params).json()\n",
    "# target_text = target_data['parse']['text']['*']"
   ]
  },
  {
   "cell_type": "code",
   "execution_count": 11,
   "metadata": {},
   "outputs": [],
   "source": [
    "# def w1(origin_text, target_title):\n",
    "#     origin_soup = BeautifulSoup(origin_text, 'html5lib')\n",
    "    \n",
    "#     context_params = []\n",
    "#     sentence_soups = []\n",
    "#     sent_ind = 0\n",
    "#     for p in origin_soup.find_all('p'):\n",
    "#         scale = 0\n",
    "#         context = False\n",
    "#         for p_split in p.decode_contents().split('\\n'):\n",
    "#             for sent in nltk.sent_tokenize(p_split):\n",
    "#                 sent_soup = BeautifulSoup(sent, 'html5lib').body\n",
    "#                 for a in sent_soup.find_all('a'):\n",
    "#                     if a.attrs['href'] == \"/wiki/\" + target_title:\n",
    "#                         context = True\n",
    "#                         loc = sent_ind\n",
    "#                 sentence_soups.append(sent_soup)\n",
    "#                 sent_ind += 1\n",
    "#                 scale += 1\n",
    "#         if context:\n",
    "#             context_params.append((loc, scale / 2))\n",
    "    \n",
    "#     loc, scale = context_params[0]\n",
    "#     context_weights = norm.pdf(np.arange(sent_ind), loc = loc, scale = scale).reshape((1, -1))\n",
    "#     for loc, scale in context_params[1:]:\n",
    "#         next_weights = norm.pdf(np.arange(sent_ind), loc = loc, scale = scale).reshape((1, -1))\n",
    "#         context_weights = np.concatenate((context_weights, next_weights), axis = 0)\n",
    "    \n",
    "#     return sentence_soups, context_weights"
   ]
  },
  {
   "cell_type": "code",
   "execution_count": 35,
   "metadata": {},
   "outputs": [],
   "source": [
    "# def format_soups(sentence_soups, tokenizer = Tokenizer()):\n",
    "#     sentence_htmls = []\n",
    "#     sentence_tokens = []\n",
    "#     for sentence_soup in sentence_soups:\n",
    "#         sentence_htmls.append(sentence_soup.decode_contents())\n",
    "#         sentence_text = re.sub('\\[.*?\\]', '', sentence_soup.get_text())\n",
    "#         word_tokens = tok.load(sentence_text).word_tokenize(lemmatize = True).word_tokens\n",
    "# #         if len(word_tokens) > 0:\n",
    "#         sentence_tokens.append(word_tokens)\n",
    "#     return sentence_htmls, sentence_tokens"
   ]
  },
  {
   "cell_type": "code",
   "execution_count": 10,
   "metadata": {},
   "outputs": [],
   "source": [
    "# def v1(origin_sentence_tokens, target_sentence_tokens):\n",
    "#     max_df = 0.9\n",
    "#     min_df = 1\n",
    "\n",
    "#     max_features = 1000\n",
    "\n",
    "#     min_n_gram = 1\n",
    "#     max_n_gram = 1\n",
    "\n",
    "#     tfidf_vectorizer = TfidfVectorizer(min_df = min_df, max_df = max_df,\n",
    "#                                        max_features = max_features,\n",
    "#                                        ngram_range = (min_n_gram, max_n_gram),\n",
    "#                                        stop_words = 'english').fit([' '.join(x) for x in origin_sentence_tokens])\n",
    "    \n",
    "#     origin_sentence_vectors = tfidf_vectorizer.transform([' '.join(x) for x in origin_sentence_tokens]).toarray()\n",
    "#     target_sentence_vectors = tfidf_vectorizer.transform([' '.join(x) for x in target_sentence_tokens]).toarray()\n",
    "    \n",
    "#     return origin_sentence_vectors, target_sentence_vectors"
   ]
  },
  {
   "cell_type": "code",
   "execution_count": 57,
   "metadata": {},
   "outputs": [],
   "source": [
    "# def get_data(origin_title, origin_text, target_title, target_text, weight_sentences, vectorize_sentences, metric = 'cosine', tokenizer = Tokenizer()):\n",
    "#     origin_sentence_soups, origin_context_weights = weight_sentences(origin_text, target_title)\n",
    "#     origin_sentence_htmls, origin_sentence_tokens = format_soups(origin_sentence_soups, tokenizer = tok)\n",
    "\n",
    "#     target_sentence_soups, target_context_weights = weight_sentences(target_text, origin_title)\n",
    "#     target_sentence_htmls, target_sentence_tokens = format_soups(target_sentence_soups, tokenizer = tok)\n",
    "\n",
    "#     origin_sentence_vectors, target_sentence_vectors = vectorize_sentences(origin_sentence_tokens, target_sentence_tokens)\n",
    "#     # origin_zero_vecs = origin_sentence_vectors.any(axis = 1)\n",
    "#     # target_zero_vecs = target_sentence_vectors.any(axis = 1)\n",
    "\n",
    "#     # origin_context_weights = origin_context_weights[:, origin_zero_vecs]\n",
    "#     # origin_sentence_vectors = origin_sentence_vectors[origin_zero_vecs, :]\n",
    "#     # target_context_weights = target_context_weights[:, target_zero_vecs]\n",
    "#     # target_sentence_vectors = target_sentence_vectors[target_zero_vecs, :]\n",
    "\n",
    "#     compare = sdist.cdist(origin_sentence_vectors, target_sentence_vectors, metric = metric)\n",
    "\n",
    "#     # origin_origin_context_weights.dot(compare).min(axis = 1)\n",
    "#     # target_context_weights.dot(compare.T).min(axis = 1)\n",
    "\n",
    "#     origin_baseline = compare[origin_context_weights.argmax(axis = 1), 0].tolist()\n",
    "#     target_baseline = compare[0, target_context_weights.argmax(axis = 1)].tolist()\n",
    "\n",
    "#     result = compare[origin_context_weights.argmax(axis = 1), target_context_weights.argmax(axis = 1)].tolist()\n",
    "\n",
    "#     return (origin_baseline + target_baseline), result"
   ]
  },
  {
   "cell_type": "code",
   "execution_count": 58,
   "metadata": {},
   "outputs": [
    {
     "data": {
      "text/plain": [
       "([0.656806457662337, 0.9901098242272428, 0.9953238158145499],\n",
       " [0.9746678147737122, 0.7899896999065671])"
      ]
     },
     "execution_count": 58,
     "metadata": {},
     "output_type": "execute_result"
    }
   ],
   "source": [
    "# get_data(origin_title, origin_text, target_title, target_text, w1, v1, metric = 'cosine', tokenizer = tok)"
   ]
  },
  {
   "cell_type": "code",
   "execution_count": 414,
   "metadata": {},
   "outputs": [
    {
     "ename": "IndexError",
     "evalue": "index 399 is out of bounds for axis 0 with size 399",
     "output_type": "error",
     "traceback": [
      "\u001b[0;31m--------------------------------------------------\u001b[0m",
      "\u001b[0;31mIndexError\u001b[0m       Traceback (most recent call last)",
      "\u001b[0;32m<ipython-input-414-6419d6879420>\u001b[0m in \u001b[0;36m<module>\u001b[0;34m()\u001b[0m\n\u001b[1;32m     79\u001b[0m         \u001b[0mdist\u001b[0m \u001b[0;34m=\u001b[0m \u001b[0;34m[\u001b[0m\u001b[0;34m]\u001b[0m\u001b[0;34m\u001b[0m\u001b[0m\n\u001b[1;32m     80\u001b[0m         \u001b[0;32mfor\u001b[0m \u001b[0mk\u001b[0m \u001b[0;32min\u001b[0m \u001b[0morigin_context_sentence_inds\u001b[0m\u001b[0;34m:\u001b[0m\u001b[0;34m\u001b[0m\u001b[0m\n\u001b[0;32m---> 81\u001b[0;31m             \u001b[0mcontext_dist\u001b[0m \u001b[0;34m=\u001b[0m \u001b[0msdist\u001b[0m\u001b[0;34m.\u001b[0m\u001b[0mcdist\u001b[0m\u001b[0;34m(\u001b[0m\u001b[0morigin_sentence_vectors\u001b[0m\u001b[0;34m,\u001b[0m \u001b[0mtarget_sentence_vectors\u001b[0m\u001b[0;34m,\u001b[0m \u001b[0mmetric\u001b[0m \u001b[0;34m=\u001b[0m \u001b[0;34m'cosine'\u001b[0m\u001b[0;34m)\u001b[0m\u001b[0;34m[\u001b[0m\u001b[0mk\u001b[0m\u001b[0;34m]\u001b[0m\u001b[0;34m\u001b[0m\u001b[0m\n\u001b[0m\u001b[1;32m     82\u001b[0m             \u001b[0;32mif\u001b[0m \u001b[0;34m~\u001b[0m\u001b[0mnp\u001b[0m\u001b[0;34m.\u001b[0m\u001b[0many\u001b[0m\u001b[0;34m(\u001b[0m\u001b[0mnp\u001b[0m\u001b[0;34m.\u001b[0m\u001b[0misnan\u001b[0m\u001b[0;34m(\u001b[0m\u001b[0mcontext_dist\u001b[0m\u001b[0;34m)\u001b[0m\u001b[0;34m)\u001b[0m\u001b[0;34m:\u001b[0m\u001b[0;34m\u001b[0m\u001b[0m\n\u001b[1;32m     83\u001b[0m                 \u001b[0mdist\u001b[0m\u001b[0;34m.\u001b[0m\u001b[0mappend\u001b[0m\u001b[0;34m(\u001b[0m\u001b[0mcontext_dist\u001b[0m\u001b[0;34m)\u001b[0m\u001b[0;34m\u001b[0m\u001b[0m\n",
      "\u001b[0;31mIndexError\u001b[0m: index 399 is out of bounds for axis 0 with size 399"
     ]
    }
   ],
   "source": [
    "# distances = []\n",
    "\n",
    "# titles_request = []\n",
    "# for index, row in df[:100].iterrows():\n",
    "#     titles_request.extend(row[['prev_title', 'curr_title']].tolist())\n",
    "\n",
    "# wapi_params = {\n",
    "#     'action': \"query\",\n",
    "#     'maxlag': 5,\n",
    "#     'prop': \"revisions\",\n",
    "#     'titles': '|'.join(titles_request),\n",
    "#     'rvprop': \"content\",\n",
    "#     'rvslots': \"main\",\n",
    "#     'format': \"json\"\n",
    "# }\n",
    "# data = sess.get(url = wapi_url, params = wapi_params).json()\n",
    "\n",
    "# for j in range(0, 1000, (50 // 2)):\n",
    "#     titles_request = []\n",
    "#     for index, row in df[j:j + (50 // 2)].iterrows():\n",
    "#         titles_request.extend(row[['prev_title', 'curr_title']].tolist())\n",
    "\n",
    "#     wapi_params = {\n",
    "#         'action': \"query\",\n",
    "#         'maxlag': 5,\n",
    "#         'prop': \"revisions\",\n",
    "#         'titles': '|'.join(titles_request),\n",
    "#         'rvprop': \"content\",\n",
    "#         'rvslots': \"main\",\n",
    "#         'format': \"json\"\n",
    "#     }\n",
    "#     data = sess.get(url = wapi_url, params = wapi_params).json()\n",
    "\n",
    "#     for index, row in df[j:j + (50 // 2)].iterrows():\n",
    "#         origin_title, target_title = row[['prev_title', 'curr_title']].tolist()\n",
    "\n",
    "#         norm_origin_title = origin_title\n",
    "#         norm_target_title = target_title\n",
    "#         for title in data['query']['normalized']:\n",
    "#             if title['from'] == origin_title:\n",
    "#                 norm_origin_title = title['to']\n",
    "#             elif title['from'] == target_title:\n",
    "#                 norm_target_title = title['to']\n",
    "#         for page in data['query']['pages'].values():\n",
    "#             if page['title'] == norm_origin_title:\n",
    "#                 origin_wiki = page['revisions'][0]['slots']['main']['*'].replace('\\n', ' ')\n",
    "#             elif page['title'] == norm_target_title:\n",
    "#                 target_wiki = page['revisions'][0]['slots']['main']['*'].replace('\\n', ' ')\n",
    "\n",
    "#         origin_sentence_tokens = []\n",
    "#         origin_context_sentence_inds = []\n",
    "#         i = 0\n",
    "#         for origin_wiki_sentence in nltk.sent_tokenize(origin_wiki):\n",
    "#             origin_content = mwparserfromhell.parse(origin_wiki_sentence).strip_code()\n",
    "#             origin_sentence_text = re.sub('\\[.*?\\]', '', origin_content)\n",
    "#             origin_sentence_tokens_list = tok.load(origin_sentence_text).tokenize(lemmatize = True).sentence_tokens\n",
    "#             if len(origin_sentence_tokens_list) > 0:\n",
    "#                 origin_sentence_tokens.append(origin_sentence_tokens_list[0])\n",
    "#                 if '[[' + norm_target_title in origin_wiki_sentence:\n",
    "#                     origin_context_sentence_inds.append(i)\n",
    "#             i += 1\n",
    "\n",
    "#         target_sentence_tokens = []\n",
    "#         for target_wiki_sentence in nltk.sent_tokenize(target_wiki):\n",
    "#             target_content = mwparserfromhell.parse(target_wiki_sentence).strip_code() \n",
    "#             target_sentence_text = re.sub('\\[.*?\\]', '', target_content)\n",
    "#             target_sentence_tokens_list = tok.load(target_sentence_text).tokenize(lemmatize = True).sentence_tokens\n",
    "#             if len(target_sentence_tokens_list) > 0:\n",
    "#                 target_sentence_tokens.append(target_sentence_tokens_list[0])\n",
    "\n",
    "#         count_vectorizer = TfidfVectorizer(min_df = min_df, max_df = max_df,\n",
    "#                                            max_features = max_features,\n",
    "#                                            ngram_range = (min_n_gram, max_n_gram),\n",
    "#                                            stop_words = 'english').fit([' '.join(x) for x in origin_sentence_tokens])\n",
    "\n",
    "#         origin_sentence_vectors = count_vectorizer.transform([' '.join(x) for x in origin_sentence_tokens]).toarray()\n",
    "#         target_sentence_vectors = count_vectorizer.transform([' '.join(x) for x in target_sentence_tokens]).toarray()\n",
    "\n",
    "#         dist = []\n",
    "#         for k in origin_context_sentence_inds:\n",
    "#             context_dist = sdist.cdist(origin_sentence_vectors, target_sentence_vectors, metric = 'cosine')[k]\n",
    "#             if ~np.any(np.isnan(context_dist)):\n",
    "#                 dist.append(context_dist)\n",
    "#         if len(dist) > 0:\n",
    "#             dist = np.array(dist).mean(axis = 0).min()\n",
    "#             distances.append(dist)\n"
   ]
  },
  {
   "cell_type": "code",
   "execution_count": 416,
   "metadata": {},
   "outputs": [
    {
     "data": {
      "image/png": "[encoded data removed]",
      "text/plain": [
       "<Figure size 396x306 with 1 Axes>"
      ]
     },
     "metadata": {},
     "output_type": "display_data"
    }
   ],
   "source": [
    "# with PdfPages(data_path + '/tfidf_cosine_hist.pdf') as pdf:\n",
    "#     fig, ax = plt.subplots()\n",
    "#     fig.set_size_inches(0.5 * 11, 0.5 * 8.5)\n",
    "#     ax.hist(distances, bins = 50)\n",
    "#     ax.grid()\n",
    "#     ax.set_title(\"TF-IDF Cosine Distance Histogram\", fontsize = 20)\n",
    "#     ax.set_xlabel(\"TF-IDF Cosine Distance\")\n",
    "#     ax.set_ylabel(\"Frequency\")\n",
    "    \n",
    "#     pdf.savefig(fig)\n",
    "#     plt.show()"
   ]
  },
  {
   "cell_type": "code",
   "execution_count": 7,
   "metadata": {},
   "outputs": [],
   "source": [
    "# with open(data_path + '/links.pickle', 'rb') as handle:\n",
    "#     links_dict = pickle.load(handle)\n",
    "\n",
    "# with open(data_path + '/titles.pickle', 'rb') as handle:\n",
    "#     titles = pickle.load(handle)"
   ]
  },
  {
   "cell_type": "code",
   "execution_count": 8,
   "metadata": {},
   "outputs": [],
   "source": [
    "# def wiki_labeled_pair_gen(titles, links_dict, n_titles = 100, maxlag = 5):\n",
    "#     sess = requests.Session()\n",
    "#     wapi_url = \"https://en.wikipedia.org/w/api.php\"\n",
    "#     for origin_inds in grouper(links_dict, n_titles):\n",
    "#         wapi_params = {\n",
    "#             'action': \"query\",\n",
    "#             'maxlag': maxlag,\n",
    "#             'prop': \"revisions\",\n",
    "#             'titles': '|'.join([titles[origin_ind - 1] for origin_ind in origin_inds if not origin_ind is None]),\n",
    "#             'rvprop': \"content\",\n",
    "#             'rvslots': \"main\",\n",
    "#             'format': \"json\"\n",
    "#         }\n",
    "#         origin_data = sess.get(url = wapi_url, params = wapi_params).json()\n",
    "# #         normalized_titles = {}\n",
    "# #         for x in origin_data['query']['normalized']:\n",
    "# #             normalized_titles[x['from']] = x['to']\n",
    "#         origin_pages = iter(origin_data['query']['pages'].values())\n",
    "#         for i in range(len(origin_inds)):\n",
    "#             origin_ind = origin_inds[i]\n",
    "#             if origin_ind is None:\n",
    "#                 break\n",
    "#             origin_sentences = [y for x in next(origin_pages)['revisions'][0]['slots']['main']['*'].split('\\n') for y in nltk.sent_tokenize(x)]\n",
    "#             for target_ind in links_dict[origin_ind]:\n",
    "#                 for origin_sentence in origin_sentences:\n",
    "#                     if (titles[target_ind - 1] + \"]]\" in origin_sentence) or (titles[target_ind - 1].replace('_', ' ') + \"]]\" in origin_sentence):\n",
    "#                         yield (titles[origin_ind - 1], titles[target_ind - 1], origin_sentence, mwparserfromhell.parse(origin_sentence).strip_code())"
   ]
  },
  {
   "cell_type": "code",
   "execution_count": 144,
   "metadata": {},
   "outputs": [],
   "source": [
    "# a = wiki_labeled_pair_gen(titles, links_dict, n_titles = 10, maxlag = 5)"
   ]
  },
  {
   "cell_type": "code",
   "execution_count": 220,
   "metadata": {},
   "outputs": [],
   "source": [
    "# max_df = 0.9\n",
    "# min_df = 1\n",
    "\n",
    "# max_features = 1000\n",
    "\n",
    "# min_n_gram = 1\n",
    "# max_n_gram = 1\n",
    "\n",
    "# count_vectorizer = CountVectorizer(min_df = min_df, max_df = max_df,\n",
    "#                                    max_features = max_features,\n",
    "#                                    ngram_range = (min_n_gram, max_n_gram),\n",
    "#                                    stop_words = 'english').fit([' '.join(x) for x in sentence_tokens[0]])\n",
    "# a = count_vectorizer.transform([' '.join(x) for x in sentence_tokens[0]]).toarray()\n",
    "# b = count_vectorizer.transform([' '.join(x) for x in sentence_tokens[1]]).toarray()"
   ]
  },
  {
   "cell_type": "code",
   "execution_count": 223,
   "metadata": {},
   "outputs": [
    {
     "data": {
      "text/plain": [
       "array([44,  3, 18, 13, 32, 20, 28,  1, 24, 37,  7, 33, 35, 43, 10,  6, 16,\n",
       "       26, 38, 39,  5, 21,  8,  0, 25, 41, 34, 23, 19, 40, 36, 30, 29, 14,\n",
       "       15, 27, 17, 22, 12,  9, 31,  4,  2, 42, 11])"
      ]
     },
     "execution_count": 223,
     "metadata": {},
     "output_type": "execute_result"
    }
   ],
   "source": [
    "# sdist.cdist(a, b)[0].argsort()"
   ]
  }
 ],
 "metadata": {
  "kernelspec": {
   "display_name": "Python [conda env:insight]",
   "language": "python",
   "name": "conda-env-insight-py"
  },
  "language_info": {
   "codemirror_mode": {
    "name": "ipython",
    "version": 3
   },
   "file_extension": ".py",
   "mimetype": "text/x-python",
   "name": "python",
   "nbconvert_exporter": "python",
   "pygments_lexer": "ipython3",
   "version": "3.6.6"
  }
 },
 "nbformat": 4,
 "nbformat_minor": 2
}
